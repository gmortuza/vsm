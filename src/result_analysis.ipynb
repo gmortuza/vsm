{
 "cells": [
  {
   "cell_type": "code",
   "execution_count": 70,
   "metadata": {
    "pycharm": {
     "is_executing": false
    }
   },
   "outputs": [],
   "source": [
    "# Importing the necessary library\n",
    "import pandas as pd\n",
    "import matplotlib.pyplot as plt"
   ]
  },
  {
   "cell_type": "code",
   "execution_count": 71,
   "metadata": {
    "pycharm": {
     "is_executing": false,
     "name": "#%%\n"
    }
   },
   "outputs": [
    {
     "data": {
      "text/html": [
       "<div>\n",
       "<style scoped>\n",
       "    .dataframe tbody tr th:only-of-type {\n",
       "        vertical-align: middle;\n",
       "    }\n",
       "\n",
       "    .dataframe tbody tr th {\n",
       "        vertical-align: top;\n",
       "    }\n",
       "\n",
       "    .dataframe thead th {\n",
       "        text-align: right;\n",
       "    }\n",
       "</style>\n",
       "<table border=\"1\" class=\"dataframe\">\n",
       "  <thead>\n",
       "    <tr style=\"text-align: right;\">\n",
       "      <th></th>\n",
       "      <th>FeatureID</th>\n",
       "      <th>GoldSet MethodID Position</th>\n",
       "      <th>GoldSetMethodID</th>\n",
       "      <th>VSM rank - ALL ranks</th>\n",
       "      <th>VSM rank - Best ranks</th>\n",
       "    </tr>\n",
       "  </thead>\n",
       "  <tbody>\n",
       "    <tr>\n",
       "      <th>0</th>\n",
       "      <td>950961.0</td>\n",
       "      <td>685</td>\n",
       "      <td>org.gjt.sp.jedit.buffer.BufferAdapter.preConte...</td>\n",
       "      <td>477.0</td>\n",
       "      <td>18.0</td>\n",
       "    </tr>\n",
       "    <tr>\n",
       "      <th>1</th>\n",
       "      <td>NaN</td>\n",
       "      <td>705</td>\n",
       "      <td>org.gjt.sp.jedit.buffer.BufferChangeListener.A...</td>\n",
       "      <td>478.0</td>\n",
       "      <td>NaN</td>\n",
       "    </tr>\n",
       "    <tr>\n",
       "      <th>2</th>\n",
       "      <td>NaN</td>\n",
       "      <td>2965</td>\n",
       "      <td>org.gjt.sp.jedit.buffer.JEditBuffer.fireFoldLe...</td>\n",
       "      <td>127.0</td>\n",
       "      <td>NaN</td>\n",
       "    </tr>\n",
       "    <tr>\n",
       "      <th>3</th>\n",
       "      <td>NaN</td>\n",
       "      <td>2966</td>\n",
       "      <td>org.gjt.sp.jedit.buffer.JEditBuffer.fireConten...</td>\n",
       "      <td>1010.0</td>\n",
       "      <td>NaN</td>\n",
       "    </tr>\n",
       "    <tr>\n",
       "      <th>4</th>\n",
       "      <td>NaN</td>\n",
       "      <td>2967</td>\n",
       "      <td>org.gjt.sp.jedit.buffer.JEditBuffer.fireConten...</td>\n",
       "      <td>995.0</td>\n",
       "      <td>NaN</td>\n",
       "    </tr>\n",
       "  </tbody>\n",
       "</table>\n",
       "</div>"
      ],
      "text/plain": [
       "   FeatureID  GoldSet MethodID Position  \\\n",
       "0   950961.0                        685   \n",
       "1        NaN                        705   \n",
       "2        NaN                       2965   \n",
       "3        NaN                       2966   \n",
       "4        NaN                       2967   \n",
       "\n",
       "                                     GoldSetMethodID  VSM rank - ALL ranks  \\\n",
       "0  org.gjt.sp.jedit.buffer.BufferAdapter.preConte...                 477.0   \n",
       "1  org.gjt.sp.jedit.buffer.BufferChangeListener.A...                 478.0   \n",
       "2  org.gjt.sp.jedit.buffer.JEditBuffer.fireFoldLe...                 127.0   \n",
       "3  org.gjt.sp.jedit.buffer.JEditBuffer.fireConten...                1010.0   \n",
       "4  org.gjt.sp.jedit.buffer.JEditBuffer.fireConten...                 995.0   \n",
       "\n",
       "   VSM rank - Best ranks  \n",
       "0                   18.0  \n",
       "1                    NaN  \n",
       "2                    NaN  \n",
       "3                    NaN  \n",
       "4                    NaN  "
      ]
     },
     "execution_count": 71,
     "metadata": {},
     "output_type": "execute_result"
    }
   ],
   "source": [
    "# Read CSV file\n",
    "data = pd.read_csv(\"VSM_Effectiveness.csv\", sep=\"\\t\")\n",
    "data = data.rename(columns={\"VSM GoldSetMethodID Rank - All Ranks\": \"VSM rank - ALL ranks\", \"VSM GoldSetMethodID Rank - Best Rank\":\"VSM rank - Best ranks\"})\n",
    "data.head()"
   ]
  },
  {
   "cell_type": "code",
   "execution_count": 72,
   "metadata": {},
   "outputs": [
    {
     "data": {
      "text/plain": [
       "count     681.000000\n",
       "mean      682.496329\n",
       "std      1302.726168\n",
       "min         1.000000\n",
       "25%        43.000000\n",
       "50%       133.000000\n",
       "75%       554.000000\n",
       "max      6376.000000\n",
       "Name: VSM rank - ALL ranks, dtype: float64"
      ]
     },
     "execution_count": 72,
     "metadata": {},
     "output_type": "execute_result"
    }
   ],
   "source": [
    "# data[\"VSM GoldSetMethodID Rank - Best Rank\"].plot.box() \n",
    "data[\"VSM rank - ALL ranks\"].describe()"
   ]
  },
  {
   "cell_type": "code",
   "execution_count": 73,
   "metadata": {},
   "outputs": [
    {
     "data": {
      "text/plain": [
       "count     147.000000\n",
       "mean      225.149660\n",
       "std       657.090925\n",
       "min         1.000000\n",
       "25%         8.500000\n",
       "50%        50.000000\n",
       "75%       138.500000\n",
       "max      4835.000000\n",
       "Name: VSM rank - Best ranks, dtype: float64"
      ]
     },
     "execution_count": 73,
     "metadata": {},
     "output_type": "execute_result"
    }
   ],
   "source": [
    "data[\"VSM rank - Best ranks\"].describe()"
   ]
  },
  {
   "cell_type": "code",
   "execution_count": 74,
   "metadata": {},
   "outputs": [
    {
     "data": {
      "text/plain": [
       "<matplotlib.axes._subplots.AxesSubplot at 0x12217f198>"
      ]
     },
     "execution_count": 74,
     "metadata": {},
     "output_type": "execute_result"
    },
    {
     "data": {
      "image/png": "[encoded data removed]",
      "text/plain": [
       "<Figure size 432x288 with 1 Axes>"
      ]
     },
     "metadata": {
      "needs_background": "light"
     },
     "output_type": "display_data"
    }
   ],
   "source": [
    "data[\"VSM rank - ALL ranks\"].plot.box(showfliers=False, showmeans=True)"
   ]
  },
  {
   "cell_type": "code",
   "execution_count": 75,
   "metadata": {},
   "outputs": [
    {
     "data": {
      "text/plain": [
       "<matplotlib.axes._subplots.AxesSubplot at 0x12146a780>"
      ]
     },
     "execution_count": 75,
     "metadata": {},
     "output_type": "execute_result"
    },
    {
     "data": {
      "image/png": "[encoded data removed]",
      "text/plain": [
       "<Figure size 432x288 with 1 Axes>"
      ]
     },
     "metadata": {
      "needs_background": "light"
     },
     "output_type": "display_data"
    }
   ],
   "source": [
    "data[\"VSM rank - Best ranks\"].plot.box(showfliers=False, showmeans=True)"
   ]
  },
  {
   "cell_type": "code",
   "execution_count": 76,
   "metadata": {},
   "outputs": [
    {
     "data": {
      "text/plain": [
       "<matplotlib.axes._subplots.AxesSubplot at 0x121c635c0>"
      ]
     },
     "execution_count": 76,
     "metadata": {},
     "output_type": "execute_result"
    },
    {
     "data": {
      "image/png": "[encoded data removed]",
      "text/plain": [
       "<Figure size 432x288 with 1 Axes>"
      ]
     },
     "metadata": {
      "needs_background": "light"
     },
     "output_type": "display_data"
    }
   ],
   "source": [
    "data.boxplot(column=[\"VSM rank - ALL ranks\", \"VSM rank - Best ranks\"], showfliers=False, showmeans=True)"
   ]
  },
  {
   "cell_type": "code",
   "execution_count": null,
   "metadata": {},
   "outputs": [],
   "source": []
  }
 ],
 "metadata": {
  "kernelspec": {
   "display_name": "Python 3",
   "language": "python",
   "name": "python3"
  },
  "language_info": {
   "codemirror_mode": {
    "name": "ipython",
    "version": 3
   },
   "file_extension": ".py",
   "mimetype": "text/x-python",
   "name": "python",
   "nbconvert_exporter": "python",
   "pygments_lexer": "ipython3",
   "version": "3.7.3"
  },
  "pycharm": {
   "stem_cell": {
    "cell_type": "raw",
    "metadata": {
     "collapsed": false
    },
    "source": []
   }
  }
 },
 "nbformat": 4,
 "nbformat_minor": 1
}
